{
  "nbformat": 4,
  "nbformat_minor": 0,
  "metadata": {
    "colab": {
      "provenance": []
    },
    "kernelspec": {
      "name": "python3",
      "display_name": "Python 3"
    },
    "language_info": {
      "name": "python"
    }
  },
  "cells": [
    {
      "cell_type": "code",
      "execution_count": null,
      "metadata": {
        "colab": {
          "base_uri": "https://localhost:8080/",
          "height": 279
        },
        "id": "P38XdEI8UCLa",
        "outputId": "65f1b1e7-8f95-4359-e004-806d6d749ad7"
      },
      "outputs": [
        {
          "output_type": "stream",
          "name": "stdout",
          "text": [
            "Customer Support Chatbot initialized. Type 'quit' to exit.\n",
            "\n",
            "Now in interactive mode. Ask me anything about our products or policies:\n",
            "You: what are the products you have\n",
            "Bot: Our products are:\n",
            "\n",
            "*   PhoneX Pro\n",
            "*   PhoneX Lite\n",
            "*   LaptopZ Ultra\n",
            "*   LaptopZ Basic\n",
            "\n",
            "You: whats the weather today\n",
            "Bot: I'm afraid I can't answer that. Would you like information about our products or policies instead?\n",
            "\n"
          ]
        }
      ],
      "source": [
        "import os\n",
        "import google.generativeai as genai\n",
        "from typing import List, Dict\n",
        "\n",
        "class CustomerSupportChatbot:\n",
        "    def __init__(self):\n",
        "        self.faq_data = \"\"\"Here is the customer support data you should use to answer questions: Products:- PhoneX Pro: Snapdragon 8 Gen 2, 12GB RAM, 5000mAh battery (₹82,999)- PhoneX Lite: Snapdragon 7 Gen 1, 8GB RAM, 4500mAh battery (₹54,999)- LaptopZ Ultra: Intel i7-1360P, 16GB RAM, 1TB SSD (₹1,24,999)- LaptopZ Basic: Intel i5-1240P, 8GB RAM, 512GB SSD (₹74,999)FAQs:- Order Tracking: Visit https://example.com/orders with your Order ID (TNV-XXXXXX format)- Return Policy: 14-day return window (₹500 shipping fee may apply)- Payment Methods: UPI, Credit Cards, NetBanking, EMI options- Warranty: 1-year manufacturer warranty (extended warranty available) Only answer based on this data. If the question is unrelated, respond: \"I'm afraid I can't answer that. Would you like information about our products or policies instead?\"\"\"\n",
        "\n",
        "        self.configure_api()\n",
        "        self.model = genai.GenerativeModel('gemini-2.0-flash-lite')\n",
        "        self.chat = None\n",
        "        self.reset_conversation()\n",
        "\n",
        "    def configure_api(self):\n",
        "        api_key = \"Add you api key here\"\n",
        "        if not api_key:\n",
        "            raise ValueError(\"Please set GEMINI_API_KEY environment variable\")\n",
        "        genai.configure(api_key=api_key)\n",
        "\n",
        "    def reset_conversation(self):\n",
        "        self.chat = self.model.start_chat(history=[\n",
        "            {\n",
        "                \"role\": \"user\",\n",
        "                \"parts\": [self.faq_data]\n",
        "            },\n",
        "            {\n",
        "                \"role\": \"model\",\n",
        "                \"parts\": [\"Understood. I will answer based on the provided customer support data.\"]\n",
        "            }\n",
        "        ])\n",
        "\n",
        "    def get_response(self, user_input: str) -> str:\n",
        "        \"\"\"\n",
        "        Get response from the chatbot\n",
        "        Args:\n",
        "            user_input: User's message\n",
        "        Returns:\n",
        "            str: Chatbot's response\n",
        "        \"\"\"\n",
        "        try:\n",
        "            response = self.chat.send_message(user_input)\n",
        "            return response.text\n",
        "        except Exception as e:\n",
        "            return f\"Sorry, I encountered an error: {str(e)}\"\n",
        "\n",
        "def main():\n",
        "    chatbot = CustomerSupportChatbot()\n",
        "    print(\"Customer Support Chatbot initialized. Type 'quit' to exit.\\n\")\n",
        "\n",
        "    demo_questions = [\n",
        "        \"What are the specs of PhoneX Pro?\",\n",
        "        \"How can I track my order?\",\n",
        "        \"What's the return policy?\",\n",
        "        \"What's the weather today?\"\n",
        "    ]\n",
        "\n",
        "    print(\"Now in interactive mode. Ask me anything about our products or policies:\")\n",
        "    while True:\n",
        "        user_input = input(\"You: \")\n",
        "        if user_input.lower() in ['quit', 'exit']:\n",
        "            break\n",
        "\n",
        "        response = chatbot.get_response(user_input)\n",
        "        print(f\"Bot: {response}\")\n",
        "\n",
        "if __name__ == \"__main__\":\n",
        "    main()"
      ]
    }
  ]
}